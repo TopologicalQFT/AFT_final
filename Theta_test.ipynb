{
 "cells": [
  {
   "cell_type": "code",
   "execution_count": 9,
   "metadata": {},
   "outputs": [],
   "source": [
    "# Matrix diagonalization\n",
    "# H : Hamiltonian matrix, size : N x N\n",
    "import numpy as np\n",
    "import matplotlib.pyplot as plt\n",
    "def Hamiltonian_diagonalization(H):\n",
    "    import numpy as np\n",
    "    # Diagonalize the Hamiltonian matrix\n",
    "    eigvals, eigvecs = np.linalg.eigh(H)\n",
    "    # Sort the eigenvalues and eigenvectors in ascending order\n",
    "    idx = eigvals.argsort()\n",
    "    eigvals = eigvals[idx]\n",
    "    eigvecs = eigvecs[:,idx]\n",
    "    return eigvals, eigvecs\n",
    "def Ham(N,h,theta):\n",
    "    H=np.zeros((2*N+1,2*N+1))\n",
    "    for i in range(2*N):\n",
    "        H[i,i+1]=1/2\n",
    "        H[i+1,i]=1/2\n",
    "    for i in range(2*N+1):\n",
    "        H[i,i]=(((i-N)*h*np.pi+theta)**2)/2\n",
    "    return H\n",
    "\n"
   ]
  },
  {
   "cell_type": "code",
   "execution_count": 13,
   "metadata": {},
   "outputs": [
    {
     "name": "stdout",
     "output_type": "stream",
     "text": [
      "[-0.84606909 -0.54478987 -0.25718807  0.01555446  0.27178357]\n"
     ]
    }
   ],
   "source": [
    "Hamiltonian=Ham(100,0.1,0)\n",
    "eigvals, eigvecs=Hamiltonian_diagonalization(Hamiltonian)\n",
    "print(eigvals[0:5])"
   ]
  },
  {
   "cell_type": "code",
   "execution_count": 66,
   "metadata": {},
   "outputs": [],
   "source": [
    "def plot_E_h(h1,h2,theta):\n",
    "    h=np.arange(h1,h2,(h2-h1)/100)\n",
    "    E=[]\n",
    "    for i in h:\n",
    "        Hamiltonian=Ham(100,i,theta)\n",
    "        eigvals, eigvecs=Hamiltonian_diagonalization(Hamiltonian)\n",
    "        E.append(eigvals[0])\n",
    "    plt.scatter(np.array(h),np.array(E))\n",
    "    plt.plot(np.array(h),np.array(h)*np.pi/2-1)\n",
    "    plt.xlabel('h')\n",
    "    plt.ylabel('E')\n",
    "    plt.show()\n",
    "    return h,E"
   ]
  },
  {
   "cell_type": "code",
   "execution_count": 67,
   "metadata": {},
   "outputs": [
    {
     "data": {
      "image/png": "[encoded data removed]",
      "text/plain": [
       "<Figure size 432x288 with 1 Axes>"
      ]
     },
     "metadata": {
      "needs_background": "light"
     },
     "output_type": "display_data"
    }
   ],
   "source": [
    "h,E=plot_E_h(1e-7,1e-3,0)"
   ]
  },
  {
   "cell_type": "code",
   "execution_count": null,
   "metadata": {},
   "outputs": [],
   "source": []
  }
 ],
 "metadata": {
  "kernelspec": {
   "display_name": "base",
   "language": "python",
   "name": "python3"
  },
  "language_info": {
   "codemirror_mode": {
    "name": "ipython",
    "version": 3
   },
   "file_extension": ".py",
   "mimetype": "text/x-python",
   "name": "python",
   "nbconvert_exporter": "python",
   "pygments_lexer": "ipython3",
   "version": "3.9.7"
  }
 },
 "nbformat": 4,
 "nbformat_minor": 2
}
